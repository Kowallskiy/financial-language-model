{
 "cells": [
  {
   "cell_type": "code",
   "execution_count": 1,
   "metadata": {},
   "outputs": [],
   "source": [
    "import requests\n",
    "from bs4 import BeautifulSoup\n",
    "import csv"
   ]
  },
  {
   "cell_type": "code",
   "execution_count": 4,
   "metadata": {},
   "outputs": [
    {
     "name": "stdout",
     "output_type": "stream",
     "text": [
      "Failed to retrieve page: https://www.investopedia.com/investing-4427685/\n"
     ]
    }
   ],
   "source": [
    "base_url = 'https://www.investopedia.com/investing-4427685/'\n",
    "max_depth = 20  # Maximum depth of pages to scrape (adjust as needed)\n",
    "\n",
    "def scrape_page_and_save(url, depth):\n",
    "    response = requests.get(url)\n",
    "    if response.status_code == 200:\n",
    "        soup = BeautifulSoup(response.text, 'html.parser')\n",
    "        # Extract and save data from the current page\n",
    "        # For example, extract and save the page title\n",
    "        page_title = soup.title.string.strip()\n",
    "        with open(\"investopedia_links.csv\", 'a', newline='') as csv_file:\n",
    "            writer = csv.writer(csv_file)\n",
    "            writer.writerow([url, page_title])  # Save the URL and page title\n",
    "        # Find links to other pages and return them\n",
    "        links = [a['href'] for a in soup.find_all('a', href=True)]\n",
    "        return links, depth\n",
    "    else:\n",
    "        print(f'Failed to retrieve page: {url}')\n",
    "        return [], depth  # Return an empty list if there are no links on the page\n",
    "\n",
    "# Start scraping from the base URL\n",
    "pages_to_scrape = [(base_url, 0)]\n",
    "visited_pages = set()\n",
    "\n",
    "while pages_to_scrape:\n",
    "    current_url, current_depth = pages_to_scrape.pop(0)\n",
    "    if current_url not in visited_pages and current_depth <= max_depth:\n",
    "        visited_pages.add(current_url)\n",
    "        links_on_page, next_depth = scrape_page_and_save(current_url, current_depth)\n",
    "        if links_on_page is not None:\n",
    "            # Add links from the current page to the list of pages to scrape\n",
    "            pages_to_scrape.extend([(link, next_depth + 1) for link in links_on_page])\n",
    "\n"
   ]
  }
 ],
 "metadata": {
  "kernelspec": {
   "display_name": "Python 3",
   "language": "python",
   "name": "python3"
  },
  "language_info": {
   "codemirror_mode": {
    "name": "ipython",
    "version": 3
   },
   "file_extension": ".py",
   "mimetype": "text/x-python",
   "name": "python",
   "nbconvert_exporter": "python",
   "pygments_lexer": "ipython3",
   "version": "3.11.4"
  }
 },
 "nbformat": 4,
 "nbformat_minor": 2
}
