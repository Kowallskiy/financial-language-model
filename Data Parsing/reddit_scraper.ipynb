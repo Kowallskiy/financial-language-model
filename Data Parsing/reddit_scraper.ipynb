{
 "cells": [
  {
   "cell_type": "code",
   "execution_count": 46,
   "metadata": {},
   "outputs": [],
   "source": [
    "import praw\n",
    "import csv\n",
    "import os"
   ]
  },
  {
   "cell_type": "code",
   "execution_count": 47,
   "metadata": {},
   "outputs": [],
   "source": [
    "user_agent = \"Scraper 1.0\"\n",
    "reddit = praw.Reddit(\n",
    "    client_id = \"\",\n",
    "    client_secret = \"\",\n",
    "    user_agent = user_agent\n",
    ")"
   ]
  },
  {
   "cell_type": "code",
   "execution_count": 59,
   "metadata": {},
   "outputs": [],
   "source": [
    "subreddit = reddit.subreddit(\"stocks\")\n"
   ]
  },
  {
   "cell_type": "code",
   "execution_count": 61,
   "metadata": {},
   "outputs": [],
   "source": [
    "last_post_id_file = \"last_post_id.txt\""
   ]
  },
  {
   "cell_type": "code",
   "execution_count": 60,
   "metadata": {},
   "outputs": [],
   "source": [
    "processed_post_ids = set()"
   ]
  },
  {
   "cell_type": "code",
   "execution_count": 62,
   "metadata": {},
   "outputs": [],
   "source": [
    "if os.path.exists(last_post_id_file):\n",
    "    with open(last_post_id_file, 'r') as file:\n",
    "        last_processed_post_id = file.read().strip()\n",
    "        if last_processed_post_id:\n",
    "            processed_post_ids.add(last_processed_post_id)"
   ]
  },
  {
   "cell_type": "code",
   "execution_count": null,
   "metadata": {},
   "outputs": [],
   "source": [
    "with open('reddit_stocks.csv', 'a', newline='', encoding='utf-8') as csv_file:\n",
    "    fieldnames = ['Title', \"Score\", \"URL\", \"Comments\"]\n",
    "    writer = csv.DictWriter(csv_file, fieldnames=fieldnames)\n",
    "\n",
    "    if os.path.getsize('reddit_stocks.csv') == 0:\n",
    "        writer.writeheader()\n",
    "\n",
    "    for post in subreddit.top(limit=50):\n",
    "        if post.id not in processed_post_ids:\n",
    "            post.comments.replace_more(limit=None)\n",
    "            comments = []\n",
    "            for comment in post.comments.list():\n",
    "                comments.append(comment.body)\n",
    "\n",
    "            writer.writerow({\n",
    "                \"Title\": post.title,\n",
    "                \"Score\": post.score,\n",
    "                \"URL\": post.url,\n",
    "                \"Comments\": \"\\n\".join(comments)\n",
    "            })\n",
    "\n",
    "            processed_post_ids.add(post.id)"
   ]
  },
  {
   "cell_type": "code",
   "execution_count": 53,
   "metadata": {},
   "outputs": [],
   "source": [
    "if processed_post_ids:\n",
    "    last_processed_post_id = max(processed_post_ids)\n",
    "    with open(last_post_id_file, 'w') as file:\n",
    "        file.write(last_processed_post_id)"
   ]
  }
 ],
 "metadata": {
  "kernelspec": {
   "display_name": "Python 3",
   "language": "python",
   "name": "python3"
  },
  "language_info": {
   "codemirror_mode": {
    "name": "ipython",
    "version": 3
   },
   "file_extension": ".py",
   "mimetype": "text/x-python",
   "name": "python",
   "nbconvert_exporter": "python",
   "pygments_lexer": "ipython3",
   "version": "3.11.4"
  }
 },
 "nbformat": 4,
 "nbformat_minor": 2
}
