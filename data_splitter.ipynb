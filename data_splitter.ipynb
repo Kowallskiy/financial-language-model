{
 "cells": [
  {
   "cell_type": "code",
   "execution_count": 1,
   "metadata": {},
   "outputs": [],
   "source": [
    "import pandas as pd\n",
    "from sklearn.model_selection import train_test_split"
   ]
  },
  {
   "cell_type": "markdown",
   "metadata": {},
   "source": [
    "__Convert from txt format to csv__"
   ]
  },
  {
   "cell_type": "code",
   "execution_count": 19,
   "metadata": {},
   "outputs": [],
   "source": [
    "import csv\n",
    "\n",
    "txt_file = 'Books 3-rd training/merged_second_books.txt'\n",
    "csv_file = 'books2.csv'\n",
    "\n",
    "with open(txt_file, 'r', encoding='utf-8') as txtfile, open(csv_file, 'w', newline='', encoding='utf-8') as csvfile:\n",
    "    csvwriter = csv.writer(csvfile, delimiter=',')\n",
    "\n",
    "    for line in txtfile:\n",
    "        data = line.strip().split(',')\n",
    "        csvwriter.writerow(data)"
   ]
  },
  {
   "cell_type": "markdown",
   "metadata": {},
   "source": [
    "__Data cleaning__"
   ]
  },
  {
   "cell_type": "code",
   "execution_count": 25,
   "metadata": {},
   "outputs": [
    {
     "ename": "Error",
     "evalue": "field larger than field limit (131072)",
     "output_type": "error",
     "traceback": [
      "\u001b[1;31m---------------------------------------------------------------------------\u001b[0m",
      "\u001b[1;31mError\u001b[0m                                     Traceback (most recent call last)",
      "\u001b[1;32mc:\\Users\\Userpc\\Desktop\\Projects\\Financial_Bot\\data_splitter.ipynb Cell 5\u001b[0m line \u001b[0;36m1\n\u001b[0;32m      <a href='vscode-notebook-cell:/c%3A/Users/Userpc/Desktop/Projects/Financial_Bot/data_splitter.ipynb#X10sZmlsZQ%3D%3D?line=6'>7</a>\u001b[0m \u001b[39mwith\u001b[39;00m \u001b[39mopen\u001b[39m(input_csv_file, \u001b[39m'\u001b[39m\u001b[39mr\u001b[39m\u001b[39m'\u001b[39m, encoding\u001b[39m=\u001b[39m\u001b[39m'\u001b[39m\u001b[39mutf-8\u001b[39m\u001b[39m'\u001b[39m) \u001b[39mas\u001b[39;00m csvfile:\n\u001b[0;32m      <a href='vscode-notebook-cell:/c%3A/Users/Userpc/Desktop/Projects/Financial_Bot/data_splitter.ipynb#X10sZmlsZQ%3D%3D?line=7'>8</a>\u001b[0m     csvreader \u001b[39m=\u001b[39m csv\u001b[39m.\u001b[39mreader(csvfile)\n\u001b[1;32m---> <a href='vscode-notebook-cell:/c%3A/Users/Userpc/Desktop/Projects/Financial_Bot/data_splitter.ipynb#X10sZmlsZQ%3D%3D?line=9'>10</a>\u001b[0m     \u001b[39mfor\u001b[39;00m row \u001b[39min\u001b[39;00m csvreader:\n\u001b[0;32m     <a href='vscode-notebook-cell:/c%3A/Users/Userpc/Desktop/Projects/Financial_Bot/data_splitter.ipynb#X10sZmlsZQ%3D%3D?line=11'>12</a>\u001b[0m         \u001b[39mif\u001b[39;00m \u001b[39mlen\u001b[39m(row) \u001b[39m==\u001b[39m \u001b[39m1\u001b[39m:\n\u001b[0;32m     <a href='vscode-notebook-cell:/c%3A/Users/Userpc/Desktop/Projects/Financial_Bot/data_splitter.ipynb#X10sZmlsZQ%3D%3D?line=12'>13</a>\u001b[0m             data \u001b[39m=\u001b[39m row[\u001b[39m0\u001b[39m]\u001b[39m.\u001b[39mstrip()\u001b[39m.\u001b[39msplit(\u001b[39m'\u001b[39m\u001b[39m,\u001b[39m\u001b[39m'\u001b[39m)\n",
      "\u001b[1;31mError\u001b[0m: field larger than field limit (131072)"
     ]
    }
   ],
   "source": [
    "input_csv_file = 'Finished/reddit.csv'\n",
    "output_csv_file = 'cleaned_reddit.csv'\n",
    "\n",
    "with open(output_csv_file, 'w', newline='', encoding='utf-8') as cleaned_csvfile:\n",
    "    csvwriter = csv.writer(cleaned_csvfile, delimiter=',')\n",
    "\n",
    "    with open(input_csv_file, 'r', encoding='utf-8') as csvfile:\n",
    "        csvreader = csv.reader(csvfile)\n",
    "        \n",
    "        for row in csvreader:\n",
    "\n",
    "            if len(row) == 1:\n",
    "                data = row[0].strip().split(',')\n",
    "                csvwriter.writerow(data)\n",
    "\n",
    "\n",
    "df = pd.read_csv(output_csv_file)"
   ]
  },
  {
   "cell_type": "markdown",
   "metadata": {},
   "source": [
    "### Splitter"
   ]
  },
  {
   "cell_type": "code",
   "execution_count": 20,
   "metadata": {},
   "outputs": [],
   "source": [
    "df = pd.read_csv('train_valid_test_data/train.csv')"
   ]
  },
  {
   "cell_type": "code",
   "execution_count": 21,
   "metadata": {},
   "outputs": [],
   "source": [
    "train_data, temp_data = train_test_split(df, test_size=0.3, random_state=3)\n",
    "val_data, test_data = train_test_split(temp_data, test_size=0.5, random_state=3)"
   ]
  },
  {
   "cell_type": "code",
   "execution_count": 22,
   "metadata": {},
   "outputs": [],
   "source": [
    "train_data.to_csv('train.csv', index=False)\n",
    "val_data.to_csv('train_valid_test_data/validation.csv', index=False)\n",
    "test_data.to_csv('train_valid_test_data/test.csv', index=False)"
   ]
  },
  {
   "cell_type": "markdown",
   "metadata": {},
   "source": [
    "__Convert from .csv to .txt__"
   ]
  },
  {
   "cell_type": "code",
   "execution_count": null,
   "metadata": {},
   "outputs": [],
   "source": [
    "import pandas as pd\n",
    "\n",
    "csv_files = [\"train_valid_test_data/validation.csv\"]\n",
    "\n",
    "for csv_file in csv_files:\n",
    "    try:\n",
    "        df = pd.read_csv(csv_file, sep=\",\")\n",
    "        txt_file = csv_file.replace(\".csv\", \".txt\")\n",
    "        df.to_csv(txt_file, index=False, sep=\"\\t\")\n",
    "    except pd.errors.ParserError as e:\n",
    "        print(f\"Error parsing {csv_file}: {e}\")"
   ]
  },
  {
   "cell_type": "markdown",
   "metadata": {},
   "source": [
    "__Merge text files__"
   ]
  },
  {
   "cell_type": "code",
   "execution_count": 31,
   "metadata": {},
   "outputs": [],
   "source": [
    "txt_files = [\"Finished/cleaned_books1.txt\", \"Finished/cleaned_books2.txt\", \"Finished/reddit.txt\", \"Finished/wiki.txt\"]\n",
    "\n",
    "\n",
    "merged_file = \"merged.txt\"\n",
    "\n",
    "with open(merged_file, \"w\", encoding='utf-8') as output_file:\n",
    "    for txt_file in txt_files:\n",
    "        with open(txt_file, \"r\", encoding='utf-8') as input_file:\n",
    "            for line in input_file:\n",
    "                output_file.write(line)"
   ]
  },
  {
   "cell_type": "markdown",
   "metadata": {},
   "source": [
    "# Parquet"
   ]
  },
  {
   "cell_type": "code",
   "execution_count": 2,
   "metadata": {},
   "outputs": [],
   "source": [
    "import pandas as pd\n",
    "import pyarrow.parquet as pq"
   ]
  },
  {
   "cell_type": "code",
   "execution_count": 12,
   "metadata": {},
   "outputs": [],
   "source": [
    "parquet_file = \"0000.parquet\"\n",
    "table = pq.read_table(parquet_file)\n",
    "df = table.to_pandas()"
   ]
  },
  {
   "cell_type": "code",
   "execution_count": 4,
   "metadata": {},
   "outputs": [],
   "source": [
    "from sklearn.model_selection import train_test_split"
   ]
  },
  {
   "cell_type": "code",
   "execution_count": 13,
   "metadata": {},
   "outputs": [],
   "source": [
    "df_1, df = train_test_split(df, train_size=0.1, random_state=1)"
   ]
  },
  {
   "cell_type": "code",
   "execution_count": 14,
   "metadata": {},
   "outputs": [],
   "source": [
    "df_2, df = train_test_split(df, train_size=0.1, random_state=1)"
   ]
  },
  {
   "cell_type": "code",
   "execution_count": 15,
   "metadata": {},
   "outputs": [],
   "source": [
    "df_3, df = train_test_split(df, train_size=0.13, random_state=1)"
   ]
  },
  {
   "cell_type": "code",
   "execution_count": 16,
   "metadata": {},
   "outputs": [],
   "source": [
    "df_4, df = train_test_split(df, train_size=0.13, random_state=1)"
   ]
  },
  {
   "cell_type": "code",
   "execution_count": 17,
   "metadata": {},
   "outputs": [],
   "source": [
    "for_test, df = train_test_split(df, train_size=0.1, random_state=1)"
   ]
  },
  {
   "cell_type": "code",
   "execution_count": 18,
   "metadata": {},
   "outputs": [],
   "source": [
    "for_validation, df = train_test_split(df, train_size=0.1, random_state=1)"
   ]
  },
  {
   "cell_type": "code",
   "execution_count": 19,
   "metadata": {},
   "outputs": [],
   "source": [
    "df_1.to_csv(\"dataset_1.csv\", index=False)\n",
    "df_2.to_csv(\"dataset_2.csv\", index=False)\n",
    "df_3.to_csv(\"dataset_3.csv\", index=False)\n",
    "df_4.to_csv(\"dataset_4.csv\", index=False)\n",
    "for_test.to_csv(\"test.csv\", index=False)\n",
    "for_validation.to_csv(\"validation.csv\", index=False)"
   ]
  }
 ],
 "metadata": {
  "kernelspec": {
   "display_name": "Python 3",
   "language": "python",
   "name": "python3"
  },
  "language_info": {
   "codemirror_mode": {
    "name": "ipython",
    "version": 3
   },
   "file_extension": ".py",
   "mimetype": "text/x-python",
   "name": "python",
   "nbconvert_exporter": "python",
   "pygments_lexer": "ipython3",
   "version": "3.11.4"
  }
 },
 "nbformat": 4,
 "nbformat_minor": 2
}
