{
 "cells": [
  {
   "cell_type": "code",
   "execution_count": 1,
   "metadata": {},
   "outputs": [],
   "source": [
    "import PyPDF2\n",
    "import os"
   ]
  },
  {
   "cell_type": "code",
   "execution_count": 7,
   "metadata": {},
   "outputs": [],
   "source": [
    "pdf_directory = \"Book 4-th trainig\"\n",
    "\n",
    "output_text_file = \"merged_4_books.txt\"\n",
    "\n",
    "def convert_pdf_to_text(pdf_file_path):\n",
    "    text = \"\"\n",
    "    with open(pdf_file_path, \"rb\") as pdf_file:\n",
    "        pdf_reader = PyPDF2.PdfReader(pdf_file)\n",
    "        for page_num in range(len(pdf_reader.pages)):\n",
    "            page = pdf_reader.pages[page_num]\n",
    "            text += page.extract_text()\n",
    "    return text\n",
    "\n",
    "def convert_and_merge_pdfs(pdf_directory, output_text_file):\n",
    "    with open(output_text_file, 'w', encoding='utf-8') as merged_file:\n",
    "        for filename in os.listdir(pdf_directory):\n",
    "            if filename.endswith(\".pdf\"):\n",
    "                pdf_file_path = os.path.join(pdf_directory, filename)\n",
    "                pdf_text = convert_pdf_to_text(pdf_file_path)\n",
    "                merged_file.write(pdf_text)\n",
    "                merged_file.write('\\n')\n",
    "\n",
    "convert_and_merge_pdfs(pdf_directory, output_text_file)"
   ]
  },
  {
   "cell_type": "code",
   "execution_count": 20,
   "metadata": {},
   "outputs": [],
   "source": [
    "def save_text_as_txt(text, txt_file_path):\n",
    "    with open(txt_file_path, 'w', encoding='utf-8') as txt_file:\n",
    "        txt_file.write(text)\n",
    "\n",
    "txt_file_path = 'book6.txt'\n",
    "save_text_as_txt(text_data, txt_file_path)"
   ]
  },
  {
   "cell_type": "markdown",
   "metadata": {},
   "source": [
    "### Merge text files"
   ]
  },
  {
   "cell_type": "code",
   "execution_count": 22,
   "metadata": {},
   "outputs": [],
   "source": [
    "import os\n",
    "\n",
    "directory_path = \"Datasets/Books\"\n",
    "\n",
    "output_file = 'merged_books.txt'\n",
    "\n",
    "def merge_txt_files_in_directory(directory_path, output_file):\n",
    "    with open(output_file, 'w', encoding='utf-8') as outfile:\n",
    "        for filename in os.listdir(directory_path):\n",
    "            if filename.endswith('.txt'):\n",
    "                file_path = os.path.join(directory_path, filename)\n",
    "                with open(file_path, 'r', encoding='utf-8') as infile:\n",
    "                    outfile.write(infile.read())\n",
    "                    outfile.write('\\n')\n",
    "\n",
    "merge_txt_files_in_directory(directory_path, output_file)\n"
   ]
  }
 ],
 "metadata": {
  "kernelspec": {
   "display_name": "Python 3",
   "language": "python",
   "name": "python3"
  },
  "language_info": {
   "codemirror_mode": {
    "name": "ipython",
    "version": 3
   },
   "file_extension": ".py",
   "mimetype": "text/x-python",
   "name": "python",
   "nbconvert_exporter": "python",
   "pygments_lexer": "ipython3",
   "version": "3.11.4"
  }
 },
 "nbformat": 4,
 "nbformat_minor": 2
}
